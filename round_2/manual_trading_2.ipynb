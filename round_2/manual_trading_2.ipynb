{
 "cells": [
  {
   "cell_type": "code",
   "execution_count": 2,
   "metadata": {},
   "outputs": [
    {
     "name": "stdout",
     "output_type": "stream",
     "text": [
      "340 [('Pizza', 'Pizza', 'Pizza', 'Pizza'), ('Pizza', 'Pizza', 'Pizza', 'Wasabi'), ('Pizza', 'Pizza', 'Pizza', 'Snowball'), ('Pizza', 'Pizza', 'Pizza', 'Shells'), ('Pizza', 'Pizza', 'Wasabi', 'Pizza'), ('Pizza', 'Pizza', 'Wasabi', 'Wasabi'), ('Pizza', 'Pizza', 'Wasabi', 'Snowball'), ('Pizza', 'Pizza', 'Wasabi', 'Shells'), ('Pizza', 'Pizza', 'Snowball', 'Pizza'), ('Pizza', 'Pizza', 'Snowball', 'Wasabi'), ('Pizza', 'Pizza', 'Snowball', 'Snowball'), ('Pizza', 'Pizza', 'Snowball', 'Shells'), ('Pizza', 'Pizza', 'Shells', 'Pizza'), ('Pizza', 'Pizza', 'Shells', 'Wasabi'), ('Pizza', 'Pizza', 'Shells', 'Snowball'), ('Pizza', 'Pizza', 'Shells', 'Shells'), ('Pizza', 'Wasabi', 'Pizza', 'Pizza'), ('Pizza', 'Wasabi', 'Pizza', 'Wasabi'), ('Pizza', 'Wasabi', 'Pizza', 'Snowball'), ('Pizza', 'Wasabi', 'Pizza', 'Shells'), ('Pizza', 'Wasabi', 'Wasabi', 'Pizza'), ('Pizza', 'Wasabi', 'Wasabi', 'Wasabi'), ('Pizza', 'Wasabi', 'Wasabi', 'Snowball'), ('Pizza', 'Wasabi', 'Wasabi', 'Shells'), ('Pizza', 'Wasabi', 'Snowball', 'Pizza'), ('Pizza', 'Wasabi', 'Snowball', 'Wasabi'), ('Pizza', 'Wasabi', 'Snowball', 'Snowball'), ('Pizza', 'Wasabi', 'Snowball', 'Shells'), ('Pizza', 'Wasabi', 'Shells', 'Pizza'), ('Pizza', 'Wasabi', 'Shells', 'Wasabi'), ('Pizza', 'Wasabi', 'Shells', 'Snowball'), ('Pizza', 'Wasabi', 'Shells', 'Shells'), ('Pizza', 'Snowball', 'Pizza', 'Pizza'), ('Pizza', 'Snowball', 'Pizza', 'Wasabi'), ('Pizza', 'Snowball', 'Pizza', 'Snowball'), ('Pizza', 'Snowball', 'Pizza', 'Shells'), ('Pizza', 'Snowball', 'Wasabi', 'Pizza'), ('Pizza', 'Snowball', 'Wasabi', 'Wasabi'), ('Pizza', 'Snowball', 'Wasabi', 'Snowball'), ('Pizza', 'Snowball', 'Wasabi', 'Shells'), ('Pizza', 'Snowball', 'Snowball', 'Pizza'), ('Pizza', 'Snowball', 'Snowball', 'Wasabi'), ('Pizza', 'Snowball', 'Snowball', 'Snowball'), ('Pizza', 'Snowball', 'Snowball', 'Shells'), ('Pizza', 'Snowball', 'Shells', 'Pizza'), ('Pizza', 'Snowball', 'Shells', 'Wasabi'), ('Pizza', 'Snowball', 'Shells', 'Snowball'), ('Pizza', 'Snowball', 'Shells', 'Shells'), ('Pizza', 'Shells', 'Pizza', 'Pizza'), ('Pizza', 'Shells', 'Pizza', 'Wasabi'), ('Pizza', 'Shells', 'Pizza', 'Snowball'), ('Pizza', 'Shells', 'Pizza', 'Shells'), ('Pizza', 'Shells', 'Wasabi', 'Pizza'), ('Pizza', 'Shells', 'Wasabi', 'Wasabi'), ('Pizza', 'Shells', 'Wasabi', 'Snowball'), ('Pizza', 'Shells', 'Wasabi', 'Shells'), ('Pizza', 'Shells', 'Snowball', 'Pizza'), ('Pizza', 'Shells', 'Snowball', 'Wasabi'), ('Pizza', 'Shells', 'Snowball', 'Snowball'), ('Pizza', 'Shells', 'Snowball', 'Shells'), ('Pizza', 'Shells', 'Shells', 'Pizza'), ('Pizza', 'Shells', 'Shells', 'Wasabi'), ('Pizza', 'Shells', 'Shells', 'Snowball'), ('Pizza', 'Shells', 'Shells', 'Shells'), ('Wasabi', 'Pizza', 'Pizza', 'Pizza'), ('Wasabi', 'Pizza', 'Pizza', 'Wasabi'), ('Wasabi', 'Pizza', 'Pizza', 'Snowball'), ('Wasabi', 'Pizza', 'Pizza', 'Shells'), ('Wasabi', 'Pizza', 'Wasabi', 'Pizza'), ('Wasabi', 'Pizza', 'Wasabi', 'Wasabi'), ('Wasabi', 'Pizza', 'Wasabi', 'Snowball'), ('Wasabi', 'Pizza', 'Wasabi', 'Shells'), ('Wasabi', 'Pizza', 'Snowball', 'Pizza'), ('Wasabi', 'Pizza', 'Snowball', 'Wasabi'), ('Wasabi', 'Pizza', 'Snowball', 'Snowball'), ('Wasabi', 'Pizza', 'Snowball', 'Shells'), ('Wasabi', 'Pizza', 'Shells', 'Pizza'), ('Wasabi', 'Pizza', 'Shells', 'Wasabi'), ('Wasabi', 'Pizza', 'Shells', 'Snowball'), ('Wasabi', 'Pizza', 'Shells', 'Shells'), ('Wasabi', 'Wasabi', 'Pizza', 'Pizza'), ('Wasabi', 'Wasabi', 'Pizza', 'Wasabi'), ('Wasabi', 'Wasabi', 'Pizza', 'Snowball'), ('Wasabi', 'Wasabi', 'Pizza', 'Shells'), ('Wasabi', 'Wasabi', 'Wasabi', 'Pizza'), ('Wasabi', 'Wasabi', 'Wasabi', 'Wasabi'), ('Wasabi', 'Wasabi', 'Wasabi', 'Snowball'), ('Wasabi', 'Wasabi', 'Wasabi', 'Shells'), ('Wasabi', 'Wasabi', 'Snowball', 'Pizza'), ('Wasabi', 'Wasabi', 'Snowball', 'Wasabi'), ('Wasabi', 'Wasabi', 'Snowball', 'Snowball'), ('Wasabi', 'Wasabi', 'Snowball', 'Shells'), ('Wasabi', 'Wasabi', 'Shells', 'Pizza'), ('Wasabi', 'Wasabi', 'Shells', 'Wasabi'), ('Wasabi', 'Wasabi', 'Shells', 'Snowball'), ('Wasabi', 'Wasabi', 'Shells', 'Shells'), ('Wasabi', 'Snowball', 'Pizza', 'Pizza'), ('Wasabi', 'Snowball', 'Pizza', 'Wasabi'), ('Wasabi', 'Snowball', 'Pizza', 'Snowball'), ('Wasabi', 'Snowball', 'Pizza', 'Shells'), ('Wasabi', 'Snowball', 'Wasabi', 'Pizza'), ('Wasabi', 'Snowball', 'Wasabi', 'Wasabi'), ('Wasabi', 'Snowball', 'Wasabi', 'Snowball'), ('Wasabi', 'Snowball', 'Wasabi', 'Shells'), ('Wasabi', 'Snowball', 'Snowball', 'Pizza'), ('Wasabi', 'Snowball', 'Snowball', 'Wasabi'), ('Wasabi', 'Snowball', 'Snowball', 'Snowball'), ('Wasabi', 'Snowball', 'Snowball', 'Shells'), ('Wasabi', 'Snowball', 'Shells', 'Pizza'), ('Wasabi', 'Snowball', 'Shells', 'Wasabi'), ('Wasabi', 'Snowball', 'Shells', 'Snowball'), ('Wasabi', 'Snowball', 'Shells', 'Shells'), ('Wasabi', 'Shells', 'Pizza', 'Pizza'), ('Wasabi', 'Shells', 'Pizza', 'Wasabi'), ('Wasabi', 'Shells', 'Pizza', 'Snowball'), ('Wasabi', 'Shells', 'Pizza', 'Shells'), ('Wasabi', 'Shells', 'Wasabi', 'Pizza'), ('Wasabi', 'Shells', 'Wasabi', 'Wasabi'), ('Wasabi', 'Shells', 'Wasabi', 'Snowball'), ('Wasabi', 'Shells', 'Wasabi', 'Shells'), ('Wasabi', 'Shells', 'Snowball', 'Pizza'), ('Wasabi', 'Shells', 'Snowball', 'Wasabi'), ('Wasabi', 'Shells', 'Snowball', 'Snowball'), ('Wasabi', 'Shells', 'Snowball', 'Shells'), ('Wasabi', 'Shells', 'Shells', 'Pizza'), ('Wasabi', 'Shells', 'Shells', 'Wasabi'), ('Wasabi', 'Shells', 'Shells', 'Snowball'), ('Wasabi', 'Shells', 'Shells', 'Shells'), ('Snowball', 'Pizza', 'Pizza', 'Pizza'), ('Snowball', 'Pizza', 'Pizza', 'Wasabi'), ('Snowball', 'Pizza', 'Pizza', 'Snowball'), ('Snowball', 'Pizza', 'Pizza', 'Shells'), ('Snowball', 'Pizza', 'Wasabi', 'Pizza'), ('Snowball', 'Pizza', 'Wasabi', 'Wasabi'), ('Snowball', 'Pizza', 'Wasabi', 'Snowball'), ('Snowball', 'Pizza', 'Wasabi', 'Shells'), ('Snowball', 'Pizza', 'Snowball', 'Pizza'), ('Snowball', 'Pizza', 'Snowball', 'Wasabi'), ('Snowball', 'Pizza', 'Snowball', 'Snowball'), ('Snowball', 'Pizza', 'Snowball', 'Shells'), ('Snowball', 'Pizza', 'Shells', 'Pizza'), ('Snowball', 'Pizza', 'Shells', 'Wasabi'), ('Snowball', 'Pizza', 'Shells', 'Snowball'), ('Snowball', 'Pizza', 'Shells', 'Shells'), ('Snowball', 'Wasabi', 'Pizza', 'Pizza'), ('Snowball', 'Wasabi', 'Pizza', 'Wasabi'), ('Snowball', 'Wasabi', 'Pizza', 'Snowball'), ('Snowball', 'Wasabi', 'Pizza', 'Shells'), ('Snowball', 'Wasabi', 'Wasabi', 'Pizza'), ('Snowball', 'Wasabi', 'Wasabi', 'Wasabi'), ('Snowball', 'Wasabi', 'Wasabi', 'Snowball'), ('Snowball', 'Wasabi', 'Wasabi', 'Shells'), ('Snowball', 'Wasabi', 'Snowball', 'Pizza'), ('Snowball', 'Wasabi', 'Snowball', 'Wasabi'), ('Snowball', 'Wasabi', 'Snowball', 'Snowball'), ('Snowball', 'Wasabi', 'Snowball', 'Shells'), ('Snowball', 'Wasabi', 'Shells', 'Pizza'), ('Snowball', 'Wasabi', 'Shells', 'Wasabi'), ('Snowball', 'Wasabi', 'Shells', 'Snowball'), ('Snowball', 'Wasabi', 'Shells', 'Shells'), ('Snowball', 'Snowball', 'Pizza', 'Pizza'), ('Snowball', 'Snowball', 'Pizza', 'Wasabi'), ('Snowball', 'Snowball', 'Pizza', 'Snowball'), ('Snowball', 'Snowball', 'Pizza', 'Shells'), ('Snowball', 'Snowball', 'Wasabi', 'Pizza'), ('Snowball', 'Snowball', 'Wasabi', 'Wasabi'), ('Snowball', 'Snowball', 'Wasabi', 'Snowball'), ('Snowball', 'Snowball', 'Wasabi', 'Shells'), ('Snowball', 'Snowball', 'Snowball', 'Pizza'), ('Snowball', 'Snowball', 'Snowball', 'Wasabi'), ('Snowball', 'Snowball', 'Snowball', 'Snowball'), ('Snowball', 'Snowball', 'Snowball', 'Shells'), ('Snowball', 'Snowball', 'Shells', 'Pizza'), ('Snowball', 'Snowball', 'Shells', 'Wasabi'), ('Snowball', 'Snowball', 'Shells', 'Snowball'), ('Snowball', 'Snowball', 'Shells', 'Shells'), ('Snowball', 'Shells', 'Pizza', 'Pizza'), ('Snowball', 'Shells', 'Pizza', 'Wasabi'), ('Snowball', 'Shells', 'Pizza', 'Snowball'), ('Snowball', 'Shells', 'Pizza', 'Shells'), ('Snowball', 'Shells', 'Wasabi', 'Pizza'), ('Snowball', 'Shells', 'Wasabi', 'Wasabi'), ('Snowball', 'Shells', 'Wasabi', 'Snowball'), ('Snowball', 'Shells', 'Wasabi', 'Shells'), ('Snowball', 'Shells', 'Snowball', 'Pizza'), ('Snowball', 'Shells', 'Snowball', 'Wasabi'), ('Snowball', 'Shells', 'Snowball', 'Snowball'), ('Snowball', 'Shells', 'Snowball', 'Shells'), ('Snowball', 'Shells', 'Shells', 'Pizza'), ('Snowball', 'Shells', 'Shells', 'Wasabi'), ('Snowball', 'Shells', 'Shells', 'Snowball'), ('Snowball', 'Shells', 'Shells', 'Shells'), ('Shells', 'Pizza', 'Pizza', 'Pizza'), ('Shells', 'Pizza', 'Pizza', 'Wasabi'), ('Shells', 'Pizza', 'Pizza', 'Snowball'), ('Shells', 'Pizza', 'Pizza', 'Shells'), ('Shells', 'Pizza', 'Wasabi', 'Pizza'), ('Shells', 'Pizza', 'Wasabi', 'Wasabi'), ('Shells', 'Pizza', 'Wasabi', 'Snowball'), ('Shells', 'Pizza', 'Wasabi', 'Shells'), ('Shells', 'Pizza', 'Snowball', 'Pizza'), ('Shells', 'Pizza', 'Snowball', 'Wasabi'), ('Shells', 'Pizza', 'Snowball', 'Snowball'), ('Shells', 'Pizza', 'Snowball', 'Shells'), ('Shells', 'Pizza', 'Shells', 'Pizza'), ('Shells', 'Pizza', 'Shells', 'Wasabi'), ('Shells', 'Pizza', 'Shells', 'Snowball'), ('Shells', 'Pizza', 'Shells', 'Shells'), ('Shells', 'Wasabi', 'Pizza', 'Pizza'), ('Shells', 'Wasabi', 'Pizza', 'Wasabi'), ('Shells', 'Wasabi', 'Pizza', 'Snowball'), ('Shells', 'Wasabi', 'Pizza', 'Shells'), ('Shells', 'Wasabi', 'Wasabi', 'Pizza'), ('Shells', 'Wasabi', 'Wasabi', 'Wasabi'), ('Shells', 'Wasabi', 'Wasabi', 'Snowball'), ('Shells', 'Wasabi', 'Wasabi', 'Shells'), ('Shells', 'Wasabi', 'Snowball', 'Pizza'), ('Shells', 'Wasabi', 'Snowball', 'Wasabi'), ('Shells', 'Wasabi', 'Snowball', 'Snowball'), ('Shells', 'Wasabi', 'Snowball', 'Shells'), ('Shells', 'Wasabi', 'Shells', 'Pizza'), ('Shells', 'Wasabi', 'Shells', 'Wasabi'), ('Shells', 'Wasabi', 'Shells', 'Snowball'), ('Shells', 'Wasabi', 'Shells', 'Shells'), ('Shells', 'Snowball', 'Pizza', 'Pizza'), ('Shells', 'Snowball', 'Pizza', 'Wasabi'), ('Shells', 'Snowball', 'Pizza', 'Snowball'), ('Shells', 'Snowball', 'Pizza', 'Shells'), ('Shells', 'Snowball', 'Wasabi', 'Pizza'), ('Shells', 'Snowball', 'Wasabi', 'Wasabi'), ('Shells', 'Snowball', 'Wasabi', 'Snowball'), ('Shells', 'Snowball', 'Wasabi', 'Shells'), ('Shells', 'Snowball', 'Snowball', 'Pizza'), ('Shells', 'Snowball', 'Snowball', 'Wasabi'), ('Shells', 'Snowball', 'Snowball', 'Snowball'), ('Shells', 'Snowball', 'Snowball', 'Shells'), ('Shells', 'Snowball', 'Shells', 'Pizza'), ('Shells', 'Snowball', 'Shells', 'Wasabi'), ('Shells', 'Snowball', 'Shells', 'Snowball'), ('Shells', 'Snowball', 'Shells', 'Shells'), ('Shells', 'Shells', 'Pizza', 'Pizza'), ('Shells', 'Shells', 'Pizza', 'Wasabi'), ('Shells', 'Shells', 'Pizza', 'Snowball'), ('Shells', 'Shells', 'Pizza', 'Shells'), ('Shells', 'Shells', 'Wasabi', 'Pizza'), ('Shells', 'Shells', 'Wasabi', 'Wasabi'), ('Shells', 'Shells', 'Wasabi', 'Snowball'), ('Shells', 'Shells', 'Wasabi', 'Shells'), ('Shells', 'Shells', 'Snowball', 'Pizza'), ('Shells', 'Shells', 'Snowball', 'Wasabi'), ('Shells', 'Shells', 'Snowball', 'Snowball'), ('Shells', 'Shells', 'Snowball', 'Shells'), ('Shells', 'Shells', 'Shells', 'Pizza'), ('Shells', 'Shells', 'Shells', 'Wasabi'), ('Shells', 'Shells', 'Shells', 'Snowball'), ('Shells', 'Shells', 'Shells', 'Shells'), ('Pizza', 'Pizza', 'Pizza'), ('Pizza', 'Pizza', 'Wasabi'), ('Pizza', 'Pizza', 'Snowball'), ('Pizza', 'Pizza', 'Shells'), ('Pizza', 'Wasabi', 'Pizza'), ('Pizza', 'Wasabi', 'Wasabi'), ('Pizza', 'Wasabi', 'Snowball'), ('Pizza', 'Wasabi', 'Shells'), ('Pizza', 'Snowball', 'Pizza'), ('Pizza', 'Snowball', 'Wasabi'), ('Pizza', 'Snowball', 'Snowball'), ('Pizza', 'Snowball', 'Shells'), ('Pizza', 'Shells', 'Pizza'), ('Pizza', 'Shells', 'Wasabi'), ('Pizza', 'Shells', 'Snowball'), ('Pizza', 'Shells', 'Shells'), ('Wasabi', 'Pizza', 'Pizza'), ('Wasabi', 'Pizza', 'Wasabi'), ('Wasabi', 'Pizza', 'Snowball'), ('Wasabi', 'Pizza', 'Shells'), ('Wasabi', 'Wasabi', 'Pizza'), ('Wasabi', 'Wasabi', 'Wasabi'), ('Wasabi', 'Wasabi', 'Snowball'), ('Wasabi', 'Wasabi', 'Shells'), ('Wasabi', 'Snowball', 'Pizza'), ('Wasabi', 'Snowball', 'Wasabi'), ('Wasabi', 'Snowball', 'Snowball'), ('Wasabi', 'Snowball', 'Shells'), ('Wasabi', 'Shells', 'Pizza'), ('Wasabi', 'Shells', 'Wasabi'), ('Wasabi', 'Shells', 'Snowball'), ('Wasabi', 'Shells', 'Shells'), ('Snowball', 'Pizza', 'Pizza'), ('Snowball', 'Pizza', 'Wasabi'), ('Snowball', 'Pizza', 'Snowball'), ('Snowball', 'Pizza', 'Shells'), ('Snowball', 'Wasabi', 'Pizza'), ('Snowball', 'Wasabi', 'Wasabi'), ('Snowball', 'Wasabi', 'Snowball'), ('Snowball', 'Wasabi', 'Shells'), ('Snowball', 'Snowball', 'Pizza'), ('Snowball', 'Snowball', 'Wasabi'), ('Snowball', 'Snowball', 'Snowball'), ('Snowball', 'Snowball', 'Shells'), ('Snowball', 'Shells', 'Pizza'), ('Snowball', 'Shells', 'Wasabi'), ('Snowball', 'Shells', 'Snowball'), ('Snowball', 'Shells', 'Shells'), ('Shells', 'Pizza', 'Pizza'), ('Shells', 'Pizza', 'Wasabi'), ('Shells', 'Pizza', 'Snowball'), ('Shells', 'Pizza', 'Shells'), ('Shells', 'Wasabi', 'Pizza'), ('Shells', 'Wasabi', 'Wasabi'), ('Shells', 'Wasabi', 'Snowball'), ('Shells', 'Wasabi', 'Shells'), ('Shells', 'Snowball', 'Pizza'), ('Shells', 'Snowball', 'Wasabi'), ('Shells', 'Snowball', 'Snowball'), ('Shells', 'Snowball', 'Shells'), ('Shells', 'Shells', 'Pizza'), ('Shells', 'Shells', 'Wasabi'), ('Shells', 'Shells', 'Snowball'), ('Shells', 'Shells', 'Shells'), ('Pizza', 'Pizza'), ('Pizza', 'Wasabi'), ('Pizza', 'Snowball'), ('Pizza', 'Shells'), ('Wasabi', 'Pizza'), ('Wasabi', 'Wasabi'), ('Wasabi', 'Snowball'), ('Wasabi', 'Shells'), ('Snowball', 'Pizza'), ('Snowball', 'Wasabi'), ('Snowball', 'Snowball'), ('Snowball', 'Shells'), ('Shells', 'Pizza'), ('Shells', 'Wasabi'), ('Shells', 'Snowball'), ('Shells', 'Shells'), ('Pizza',), ('Wasabi',), ('Snowball',), ('Shells',)]\n",
      "Final amount: 2113938.7776\n",
      "Achieved with the combination of: ['Shells', 'Pizza', 'Wasabi', 'Shells', 'Pizza', 'Shells']\n"
     ]
    }
   ],
   "source": [
    "import itertools\n",
    "from typing import List\n",
    "\n",
    "prices = {\n",
    "    \"Pizza\": {\"Pizza\": 1, \"Wasabi\": 0.48, \"Snowball\": 1.52, \"Shells\": 0.71},\n",
    "    \"Wasabi\": {\"Pizza\": 2.05, \"Wasabi\": 1, \"Snowball\": 3.26, \"Shells\": 1.56},\n",
    "    \"Snowball\": {\"Pizza\": 0.64, \"Wasabi\": 0.3, \"Snowball\": 1, \"Shells\": 0.46},\n",
    "    \"Shells\": {\"Pizza\": 1.41, \"Wasabi\": 0.61, \"Snowball\": 2.08, \"Shells\": 1},\n",
    "}\n",
    "\n",
    "goods = [\"Pizza\", \"Wasabi\", \"Snowball\", \"Shells\"]\n",
    "\n",
    "\n",
    "def calc_money(trades: List[str], amount: float) -> float:\n",
    "    for i in range(0, len(trades) - 1):\n",
    "        good_from = trades[i]\n",
    "        good_to = trades[i + 1]\n",
    "        amount *= prices[good_from][good_to]\n",
    "    return amount\n",
    "\n",
    "\n",
    "if __name__ == '__main__':\n",
    "    start_amount = 2000000\n",
    "    result = []\n",
    "    all_combinations = list(itertools.product(goods, repeat=4)) + \\\n",
    "        list(itertools.product(goods, repeat=3)) + \\\n",
    "        list(itertools.product(goods, repeat=2)) + \\\n",
    "        list(itertools.product(goods, repeat=1))\n",
    "    \n",
    "    print(len(all_combinations), all_combinations)\n",
    "\n",
    "    # Go through all the combinations and append their result\n",
    "    for combination in all_combinations:\n",
    "        trade = [\"Shells\"] + list(combination) + [\"Shells\"]\n",
    "        result.append((calc_money(trade, start_amount), trade))\n",
    "\n",
    "    result.sort(key=lambda x: (-x[0], len(x[1])))\n",
    "    print(\"Final amount: {}\\nAchieved with the combination of: {}\".format(result[0][0], result[0][1]))"
   ]
  },
  {
   "cell_type": "code",
   "execution_count": 3,
   "metadata": {},
   "outputs": [
    {
     "name": "stdout",
     "output_type": "stream",
     "text": [
      "[2977378.56, 1429141.7088, 4525615.4112, 2113938.7776] [[(3, 0), (0, 1), (1, 3), (3, 0)], [(3, 0), (0, 1), (1, 3), (3, 0), (0, 1)], [(3, 0), (0, 1), (1, 3), (3, 0), (0, 2)], [(3, 0), (0, 1), (1, 3), (3, 0), (0, 3)]]\n"
     ]
    }
   ],
   "source": [
    "import copy\n",
    "\n",
    "EXCHANGE_MATRIX = [\n",
    "    [1, 0.48, 1.52, 0.71],\n",
    "    [2.05, 1, 3.26, 1.56],\n",
    "    [0.64, 0.3, 1, 0.46],\n",
    "    [1.41, 0.61, 2.08, 1],\n",
    "]\n",
    "\n",
    "# Maximum amount of each asset possible after trades\n",
    "\n",
    "MAX_AMOUNT = [0, 0, 0, 2000000]\n",
    "BEST_ROUTE = [[], [], [], []]\n",
    "\n",
    "# There are 5 trades\n",
    "for _ in range(5):\n",
    "    NEW_MAX_AMOUNT = copy.deepcopy(MAX_AMOUNT)\n",
    "    NEW_BEST_ROUTE = copy.deepcopy(BEST_ROUTE)\n",
    "\n",
    "    for target_product in range(4):\n",
    "        for origin_product in range(4):\n",
    "            quantity_target = MAX_AMOUNT[origin_product] * EXCHANGE_MATRIX[origin_product][target_product]\n",
    "            if quantity_target > NEW_MAX_AMOUNT[target_product]:\n",
    "                NEW_MAX_AMOUNT[target_product] = quantity_target\n",
    "                NEW_BEST_ROUTE[target_product] = BEST_ROUTE[origin_product] + [(origin_product, target_product)]\n",
    "\n",
    "    MAX_AMOUNT = NEW_MAX_AMOUNT\n",
    "    BEST_ROUTE = NEW_BEST_ROUTE\n",
    "\n",
    "print(MAX_AMOUNT, BEST_ROUTE)"
   ]
  },
  {
   "cell_type": "code",
   "execution_count": 4,
   "metadata": {},
   "outputs": [
    {
     "name": "stdout",
     "output_type": "stream",
     "text": [
      "(2113938.7776, [('Shells', 'Pizza', 1.41), ('Pizza', 'Wasabi', 0.48), ('Wasabi', 'Shells', 1.56), ('Shells', 'Pizza', 1.41), ('Pizza', 'Shells', 0.71)]) [1109]\n"
     ]
    }
   ],
   "source": [
    "# Modify the function to also track the path of trades leading to the maximum profit\n",
    "def max_profit_path(currency, num_trades, current_value, path, totalTests):\n",
    "    totalTests[0] += 1\n",
    "    if num_trades == 0:\n",
    "        if currency != \"Shells\":\n",
    "            return (0, path)\n",
    "        else:\n",
    "            return (current_value, path)\n",
    "    \n",
    "    max_result = (0, [])\n",
    "    # Explore all possible trades from the current currency\n",
    "    for next_currency, rate in prices[currency].items():\n",
    "        # Calculate the value if we trade to this next currency\n",
    "        new_value = current_value * rate\n",
    "        new_path = path + [(currency, next_currency, rate)]\n",
    "        # Recursively calculate the profit from the next currency\n",
    "        if next_currency == \"Shells\" and num_trades == 1:\n",
    "            # If it's the last trade, ensure we end in Shells\n",
    "            if new_value > max_result[0]:\n",
    "                max_result = (new_value, new_path)\n",
    "        else:\n",
    "            result = max_profit_path(next_currency, num_trades - 1, new_value, new_path, totalTests)\n",
    "            if result[0] > max_result[0]:\n",
    "                max_result = result\n",
    "    \n",
    "    return max_result\n",
    "\n",
    "total = [0]\n",
    "# Start with 1 Shells and try up to 5 trades\n",
    "result = max_profit_path(\"Shells\", 5, 2000000, [], total)\n",
    "print(result, total)\n"
   ]
  }
 ],
 "metadata": {
  "kernelspec": {
   "display_name": "Python 3",
   "language": "python",
   "name": "python3"
  },
  "language_info": {
   "codemirror_mode": {
    "name": "ipython",
    "version": 3
   },
   "file_extension": ".py",
   "mimetype": "text/x-python",
   "name": "python",
   "nbconvert_exporter": "python",
   "pygments_lexer": "ipython3",
   "version": "3.10.5"
  }
 },
 "nbformat": 4,
 "nbformat_minor": 2
}
