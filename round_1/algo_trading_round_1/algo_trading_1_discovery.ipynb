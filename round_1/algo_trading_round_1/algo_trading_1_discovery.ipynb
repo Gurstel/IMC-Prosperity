{
 "cells": [
  {
   "cell_type": "code",
   "execution_count": 22,
   "metadata": {},
   "outputs": [],
   "source": [
    "import pandas as pd\n",
    "\n"
   ]
  },
  {
   "cell_type": "code",
   "execution_count": 23,
   "metadata": {},
   "outputs": [
    {
     "data": {
      "text/plain": [
       "['prices_round_1_day_-2',\n",
       " 'prices_round_1_day_-1',\n",
       " 'prices_round_1_day_0',\n",
       " 'trades_round_1_day_-2_nn',\n",
       " 'trades_round_1_day_-1_nn',\n",
       " 'trades_round_1_day_0_nn']"
      ]
     },
     "execution_count": 23,
     "metadata": {},
     "output_type": "execute_result"
    }
   ],
   "source": [
    "# Load the Excel file\n",
    "excel_path = 'IMCRound1Data.xlsx'\n",
    "xl = pd.ExcelFile(excel_path)\n",
    "\n",
    "# Print the names of the sheets in the Excel file\n",
    "sheet_names = xl.sheet_names\n",
    "sheet_names"
   ]
  },
  {
   "cell_type": "code",
   "execution_count": 24,
   "metadata": {},
   "outputs": [
    {
     "name": "stdout",
     "output_type": "stream",
     "text": [
      "Correlation between Starfruit and Amethyst:  0.013517539935968454\n"
     ]
    }
   ],
   "source": [
    "# Load the price data from the sheets\n",
    "prices_day_2 = xl.parse('prices_round_1_day_-2')\n",
    "prices_day_1 = xl.parse('prices_round_1_day_-1')\n",
    "prices_day_0 = xl.parse('prices_round_1_day_0')\n",
    "\n",
    "# Combine the price data from all days\n",
    "combined_prices = pd.concat([prices_day_2, prices_day_1, prices_day_0])\n",
    "\n",
    "# Adjusting the approach to use 'mid_price' for correlation analysis\n",
    "# Filter the combined prices for STARFRUIT and AMETHYSTS only\n",
    "starfruit_amethysts_prices = combined_prices[combined_prices['product'].isin(['STARFRUIT', 'AMETHYSTS'])]\n",
    "\n",
    "# Pivot the data to have 'mid_price' as values\n",
    "pivoted_mid_prices = starfruit_amethysts_prices.pivot_table(index='timestamp', columns='product', values='mid_price')\n",
    "\n",
    "# Recalculate the correlation between STARFRUIT and AMETHYSTS mid prices\n",
    "new_correlation = pivoted_mid_prices.corr()\n",
    "\n",
    "print(\"Correlation between Starfruit and Amethyst: \", new_correlation.loc['STARFRUIT', 'AMETHYSTS'])\n"
   ]
  },
  {
   "cell_type": "code",
   "execution_count": 26,
   "metadata": {},
   "outputs": [
    {
     "name": "stdout",
     "output_type": "stream",
     "text": [
      "Amethyst stats 9999.99655 6.773833333333333 1.4965920476508963\n"
     ]
    }
   ],
   "source": [
    "# Calculate key metrics for AMETHYSTS historical price data\n",
    "amethysts_prices = combined_prices[combined_prices['product'] == 'STARFRUIT']\n",
    "\n",
    "# Average mid price\n",
    "average_mid_price = amethysts_prices['mid_price'].mean()\n",
    "\n",
    "# Average bid-ask spread\n",
    "average_spread = (amethysts_prices['ask_price_1'] - amethysts_prices['bid_price_1']).mean()\n",
    "\n",
    "# Volatility (Standard Deviation of mid price)\n",
    "volatility = amethysts_prices['mid_price'].std()\n",
    "\n",
    "print(\"Amethyst stats\", average_mid_price, average_spread, volatility)\n"
   ]
  }
 ],
 "metadata": {
  "kernelspec": {
   "display_name": "Python 3",
   "language": "python",
   "name": "python3"
  },
  "language_info": {
   "codemirror_mode": {
    "name": "ipython",
    "version": 3
   },
   "file_extension": ".py",
   "mimetype": "text/x-python",
   "name": "python",
   "nbconvert_exporter": "python",
   "pygments_lexer": "ipython3",
   "version": "3.10.5"
  }
 },
 "nbformat": 4,
 "nbformat_minor": 2
}
