{
 "cells": [
  {
   "cell_type": "code",
   "execution_count": 2,
   "metadata": {},
   "outputs": [
    {
     "data": {
      "text/plain": [
       "['prices_round_1_day_-2',\n",
       " 'prices_round_1_day_-1',\n",
       " 'prices_round_1_day_0',\n",
       " 'trades_round_1_day_-2_nn',\n",
       " 'trades_round_1_day_-1_nn',\n",
       " 'trades_round_1_day_0_nn']"
      ]
     },
     "execution_count": 2,
     "metadata": {},
     "output_type": "execute_result"
    }
   ],
   "source": [
    "import pandas as pd\n",
    "\n",
    "# Load the Excel file\n",
    "file_path = 'IMCRound1Data.xlsx'\n",
    "xl = pd.ExcelFile(file_path)\n",
    "\n",
    "# Print the names of the sheets to understand the structure of the data\n",
    "xl.sheet_names"
   ]
  },
  {
   "cell_type": "markdown",
   "metadata": {},
   "source": [
    "The Excel spreadsheet contains six sheets:\n",
    "\n",
    "Three sheets for prices (prices_round_1_day_-2, prices_round_1_day_-1, prices_round_1_day_0)\n",
    "Three sheets for trades (trades_round_1_day_-2_nn, trades_round_1_day_-1_nn, trades_round_1_day_0_nn)"
   ]
  },
  {
   "cell_type": "code",
   "execution_count": 4,
   "metadata": {},
   "outputs": [
    {
     "data": {
      "text/plain": [
       "(           timestamp  buyer  seller         price     quantity\n",
       " count    7235.000000    0.0     0.0   7235.000000  7235.000000\n",
       " mean   496217.401520    NaN     NaN   9999.968487     2.104630\n",
       " std    287667.575521    NaN     NaN      3.151743     2.002825\n",
       " min         0.000000    NaN     NaN   9995.000000     0.000000\n",
       " 25%    245950.000000    NaN     NaN   9998.000000     1.000000\n",
       " 50%    494300.000000    NaN     NaN   9998.000000     1.000000\n",
       " 75%    742700.000000    NaN     NaN  10002.000000     2.000000\n",
       " max    999800.000000    NaN     NaN  10005.000000    12.000000,\n",
       " 9995      429\n",
       " 9996     1054\n",
       " 9998     2151\n",
       " 10000      67\n",
       " 10002    2073\n",
       " 10004    1016\n",
       " 10005     445\n",
       " Name: price, dtype: int64)"
      ]
     },
     "execution_count": 4,
     "metadata": {},
     "output_type": "execute_result"
    }
   ],
   "source": [
    "# Load trades data for all available days\n",
    "trades_day_minus_2 = pd.read_excel(file_path, sheet_name='trades_round_1_day_-2_nn')\n",
    "trades_day_minus_1 = pd.read_excel(file_path, sheet_name='trades_round_1_day_-1_nn')\n",
    "trades_day_0 = pd.read_excel(file_path, sheet_name='trades_round_1_day_0_nn')\n",
    "\n",
    "# Combine all trades data into a single DataFrame\n",
    "trades_combined = pd.concat([trades_day_minus_2, trades_day_minus_1, trades_day_0])\n",
    "\n",
    "# Filter for Amethyst trades\n",
    "amethyst_trades = trades_combined[trades_combined['symbol'] == 'AMETHYSTS']\n",
    "\n",
    "# Display basic statistics for Amethyst trades price to understand the stability and the occurrence around 10,000\n",
    "amethyst_trades.describe(), amethyst_trades['price'].value_counts().sort_index()\n"
   ]
  },
  {
   "cell_type": "code",
   "execution_count": null,
   "metadata": {},
   "outputs": [],
   "source": []
  }
 ],
 "metadata": {
  "kernelspec": {
   "display_name": "Python 3",
   "language": "python",
   "name": "python3"
  },
  "language_info": {
   "codemirror_mode": {
    "name": "ipython",
    "version": 3
   },
   "file_extension": ".py",
   "mimetype": "text/x-python",
   "name": "python",
   "nbconvert_exporter": "python",
   "pygments_lexer": "ipython3",
   "version": "3.10.5"
  }
 },
 "nbformat": 4,
 "nbformat_minor": 2
}
